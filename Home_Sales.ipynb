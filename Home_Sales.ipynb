{
  "cells": [
    {
      "cell_type": "markdown",
      "metadata": {
        "id": "view-in-github"
      },
      "source": [
        "<a href=\"https://colab.research.google.com/github/Lakshmiabbaraju/Crowdfunding/blob/main/Home_Sales.ipynb\" target=\"_parent\"><img src=\"https://colab.research.google.com/assets/colab-badge.svg\" alt=\"Open In Colab\"/></a>"
      ]
    },
    {
      "cell_type": "code",
      "execution_count": 1,
      "metadata": {
        "colab": {
          "base_uri": "https://localhost:8080/"
        },
        "id": "_WZ0i_SHB75l",
        "outputId": "ed51df78-30f0-4824-f695-c82f5323a8d4"
      },
      "outputs": [
        {
          "output_type": "stream",
          "name": "stdout",
          "text": [
            "Collecting findspark\n",
            "  Downloading findspark-2.0.1-py2.py3-none-any.whl.metadata (352 bytes)\n",
            "Downloading findspark-2.0.1-py2.py3-none-any.whl (4.4 kB)\n",
            "Installing collected packages: findspark\n",
            "Successfully installed findspark-2.0.1\n"
          ]
        }
      ],
      "source": [
        "pip install findspark"
      ]
    },
    {
      "cell_type": "code",
      "execution_count": 2,
      "metadata": {
        "id": "a_KW73O2e3dw"
      },
      "outputs": [],
      "source": [
        "# Import findspark and initialize.\n",
        "import findspark\n",
        "findspark.init()"
      ]
    },
    {
      "cell_type": "code",
      "execution_count": 3,
      "metadata": {
        "id": "2XbWNf1Te5fM"
      },
      "outputs": [],
      "source": [
        "# Import packages\n",
        "from pyspark.sql import SparkSession\n",
        "import time\n",
        "\n",
        "# Create a SparkSession\n",
        "spark = SparkSession.builder.appName(\"SparkSQL\").getOrCreate()"
      ]
    },
    {
      "cell_type": "code",
      "execution_count": 4,
      "metadata": {
        "colab": {
          "base_uri": "https://localhost:8080/"
        },
        "id": "wOJqxG_RPSwp",
        "outputId": "408fee8d-24e1-44a3-9520-2e02b46daae4"
      },
      "outputs": [
        {
          "output_type": "stream",
          "name": "stdout",
          "text": [
            "+--------------------+----------+----------+------+--------+---------+-----------+--------+------+----------+----+\n",
            "|                  id|      date|date_built| price|bedrooms|bathrooms|sqft_living|sqft_lot|floors|waterfront|view|\n",
            "+--------------------+----------+----------+------+--------+---------+-----------+--------+------+----------+----+\n",
            "|f8a53099-ba1c-47d...|2022-04-08|      2016|936923|       4|        3|       3167|   11733|     2|         1|  76|\n",
            "|7530a2d8-1ae3-451...|2021-06-13|      2013|379628|       2|        2|       2235|   14384|     1|         0|  23|\n",
            "|43de979c-0bf0-4c9...|2019-04-12|      2014|417866|       2|        2|       2127|   10575|     2|         0|   0|\n",
            "|b672c137-b88c-48b...|2019-10-16|      2016|239895|       2|        2|       1631|   11149|     2|         0|   0|\n",
            "|e0726d4d-d595-407...|2022-01-08|      2017|424418|       3|        2|       2249|   13878|     2|         0|   4|\n",
            "|5aa00529-0533-46b...|2019-01-30|      2017|218712|       2|        3|       1965|   14375|     2|         0|   7|\n",
            "|131492a1-72e2-4a8...|2020-02-08|      2017|419199|       2|        3|       2062|    8876|     2|         0|   6|\n",
            "|8d54a71b-c520-44e...|2019-07-21|      2010|323956|       2|        3|       1506|   11816|     1|         0|  25|\n",
            "|e81aacfe-17fe-46b...|2020-06-16|      2016|181925|       3|        3|       2137|   11709|     2|         0|  22|\n",
            "|2ed8d509-7372-46d...|2021-08-06|      2015|258710|       3|        3|       1918|    9666|     1|         0|  25|\n",
            "|f876d86f-3c9f-42b...|2019-02-27|      2011|167864|       3|        3|       2471|   13924|     2|         0|  15|\n",
            "|0a2bd445-8508-4d8...|2021-12-30|      2014|337527|       2|        3|       1926|   12556|     1|         0|  23|\n",
            "|941bad30-eb49-4a7...|2020-05-09|      2015|229896|       3|        3|       2197|    8641|     1|         0|   3|\n",
            "|dd61eb34-6589-4c0...|2021-07-25|      2016|210247|       3|        2|       1672|   11986|     2|         0|  28|\n",
            "|f1e4cef7-d151-439...|2019-02-01|      2011|398667|       2|        3|       2331|   11356|     1|         0|   7|\n",
            "|ea620c7b-c2f7-4c6...|2021-05-31|      2011|437958|       3|        3|       2356|   11052|     1|         0|  26|\n",
            "|f233cb41-6f33-4b0...|2021-07-18|      2016|437375|       4|        3|       1704|   11721|     2|         0|  34|\n",
            "|c797ca12-52cd-4b1...|2019-06-08|      2015|288650|       2|        3|       2100|   10419|     2|         0|   7|\n",
            "|0cfe57f3-28c2-472...|2019-10-04|      2015|308313|       3|        3|       1960|    9453|     2|         0|   2|\n",
            "|4566cd2a-ac6e-435...|2019-07-15|      2016|177541|       3|        3|       2130|   10517|     2|         0|  25|\n",
            "+--------------------+----------+----------+------+--------+---------+-----------+--------+------+----------+----+\n",
            "only showing top 20 rows\n",
            "\n"
          ]
        }
      ],
      "source": [
        "# 1. Read in the AWS S3 bucket into a DataFrame.\n",
        "from pyspark import SparkFiles\n",
        "url = \"https://2u-data-curriculum-team.s3.amazonaws.com/dataviz-classroom/v1.2/22-big-data/home_sales_revised.csv\"\n",
        "\n",
        "spark.sparkContext.addFile(url)\n",
        "df = spark.read.csv(SparkFiles.get(\"home_sales_revised.csv\"), sep=\",\", header=True)\n",
        "\n",
        "# Show the DataFrame\n",
        "df.show()\n",
        "\n"
      ]
    },
    {
      "cell_type": "code",
      "execution_count": 5,
      "metadata": {
        "id": "RoljcJ7WPpnm"
      },
      "outputs": [],
      "source": [
        "# 2. Create a temporary view of the DataFrame.\n",
        "df.createOrReplaceTempView('home_sales')\n"
      ]
    },
    {
      "cell_type": "code",
      "execution_count": 6,
      "metadata": {
        "colab": {
          "base_uri": "https://localhost:8080/"
        },
        "id": "L6fkwOeOmqvq",
        "outputId": "451d2574-90f9-46da-b683-a499253b3052"
      },
      "outputs": [
        {
          "output_type": "stream",
          "name": "stdout",
          "text": [
            "+------------+---------+\n",
            "|Year_Sold_4B|Avg_Price|\n",
            "+------------+---------+\n",
            "|        2019| 300263.7|\n",
            "|        2020|298353.78|\n",
            "|        2021|301819.44|\n",
            "|        2022|296363.88|\n",
            "+------------+---------+\n",
            "\n"
          ]
        }
      ],
      "source": [
        "# 3. What is the average price for a four bedroom house sold per year, rounded to two decimal places?\n",
        "spark.sql(\"\"\"SELECT YEAR(DATE) as Year_Sold_4B, ROUND(AVG(price),2) AS Avg_Price FROM home_sales WHERE BEDROOMS = 4 GROUP BY 1 ORDER BY 1 ASC\"\"\").show()\n"
      ]
    },
    {
      "cell_type": "code",
      "execution_count": 7,
      "metadata": {
        "colab": {
          "base_uri": "https://localhost:8080/"
        },
        "id": "l8p_tUS8h8it",
        "outputId": "06053e80-3b4c-4f1e-8997-b7689b9e260c"
      },
      "outputs": [
        {
          "output_type": "stream",
          "name": "stdout",
          "text": [
            "+---------------+---------+\n",
            "|Home_Built_Year|Avg_Price|\n",
            "+---------------+---------+\n",
            "|           2010|292859.62|\n",
            "|           2011|291117.47|\n",
            "|           2012|293683.19|\n",
            "|           2013|295962.27|\n",
            "|           2014|290852.27|\n",
            "|           2015| 288770.3|\n",
            "|           2016|290555.07|\n",
            "|           2017|292676.79|\n",
            "+---------------+---------+\n",
            "\n"
          ]
        }
      ],
      "source": [
        "# 4. What is the average price of a home for each year the home was built,\n",
        "# that have 3 bedrooms and 3 bathrooms, rounded to two decimal places?\n",
        "spark.sql(\"\"\"SELECT date_built AS Home_Built_Year, ROUND(AVG(price),2) AS Avg_Price FROM home_sales WHERE bedrooms = 3 AND bathrooms = 3 GROUP BY 1 ORDER BY 1 ASC\"\"\").show()\n"
      ]
    },
    {
      "cell_type": "code",
      "execution_count": 8,
      "metadata": {
        "colab": {
          "base_uri": "https://localhost:8080/"
        },
        "id": "Y-Eytz64liDU",
        "outputId": "8277657d-fc2d-4021-93b7-8e23196bad42"
      },
      "outputs": [
        {
          "output_type": "stream",
          "name": "stdout",
          "text": [
            "+---------------+---------+\n",
            "|Home_Built_Year|Avg_Price|\n",
            "+---------------+---------+\n",
            "|           2010|280447.23|\n",
            "|           2011|281413.45|\n",
            "|           2012|295858.68|\n",
            "|           2013|295142.13|\n",
            "|           2014|294195.13|\n",
            "|           2015|291788.36|\n",
            "|           2016| 287812.6|\n",
            "|           2017|282026.59|\n",
            "+---------------+---------+\n",
            "\n"
          ]
        }
      ],
      "source": [
        "# 5. What is the average price of a home for each year the home was built,\n",
        "# that have 3 bedrooms, 3 bathrooms, with two floors,\n",
        "# and are greater than or equal to 2,000 square feet, rounded to two decimal places?\n",
        "spark.sql(\"\"\"SELECT date_built AS Home_Built_Year, ROUND(AVG(price),2)AS Avg_Price FROM home_sales WHERE bedrooms = 3 AND bathrooms = 3 AND floors = 2 AND sqft_lot >= 2000 GROUP BY 1 ORDER BY 1 ASC\"\"\").show()\n"
      ]
    },
    {
      "cell_type": "code",
      "execution_count": 9,
      "metadata": {
        "colab": {
          "base_uri": "https://localhost:8080/"
        },
        "id": "GUrfgOX1pCRd",
        "outputId": "56b8274d-4aac-47d1-8405-cecf01f1b83c"
      },
      "outputs": [
        {
          "output_type": "stream",
          "name": "stdout",
          "text": [
            "+----------------+----------+\n",
            "|Home_View_Rating| Avg_Price|\n",
            "+----------------+----------+\n",
            "|              99|1061201.42|\n",
            "|              98|1053739.33|\n",
            "|              97|1129040.15|\n",
            "|              96|1017815.92|\n",
            "|              95| 1054325.6|\n",
            "|              94| 1033536.2|\n",
            "|              93|1026006.06|\n",
            "|              92| 970402.55|\n",
            "|              91|1137372.73|\n",
            "|              90|1062654.16|\n",
            "|              89|1107839.15|\n",
            "|              88|1031719.35|\n",
            "|              87| 1072285.2|\n",
            "|              86|1070444.25|\n",
            "|              85|1056336.74|\n",
            "|              84|1117233.13|\n",
            "|              83|1033965.93|\n",
            "|              82| 1063498.0|\n",
            "|              81|1053472.79|\n",
            "|              80| 991767.38|\n",
            "+----------------+----------+\n",
            "only showing top 20 rows\n",
            "\n",
            "--- 1.9893498420715332 seconds ---\n"
          ]
        }
      ],
      "source": [
        "# 6. What is the average price of a home per \"view\" rating, rounded to two decimal places,\n",
        "# having an average home price greater than or equal to $350,000? Order by descending view rating.\n",
        "# Although this is a small dataset, determine the run time for this query.\n",
        "\n",
        "# Get the current time\n",
        "start_time = time.time()\n",
        "\n",
        "# The code below displays the single digit 9 as part of the list\n",
        "# spark.sql(\"SELECT view AS Home_View_Rating, ROUND(AVG(price),2) AS Avg_Price FROM home_sales WHERE price>=350000 GROUP BY 1 ORDER BY 1 DESC\").show()\n",
        "\n",
        "# This line of code runs the query and sorts correctly by left-padding the values with '0' so that number 9 is considered 09, and be sorted correctly.\n",
        "spark.sql(\"\"\"SELECT LPAD(view, 2, '0') AS Home_View_Rating, ROUND(AVG(price), 2) AS Avg_Price FROM home_sales WHERE price >= 350000 GROUP BY 1 ORDER BY Home_View_Rating DESC\"\"\").show()\n",
        "\n",
        "# Print out the runtime\n",
        "print(\"--- %s seconds ---\" % (time.time() - start_time))"
      ]
    },
    {
      "cell_type": "code",
      "execution_count": 10,
      "metadata": {
        "colab": {
          "base_uri": "https://localhost:8080/"
        },
        "id": "KAhk3ZD2tFy8",
        "outputId": "a9804bd2-1210-4d12-8073-1de2c246b61e"
      },
      "outputs": [
        {
          "output_type": "execute_result",
          "data": {
            "text/plain": [
              "DataFrame[]"
            ]
          },
          "metadata": {},
          "execution_count": 10
        }
      ],
      "source": [
        "# 7. Cache the the temporary table home_sales.\n",
        "spark.sql(\"cache table home_sales\")"
      ]
    },
    {
      "cell_type": "code",
      "execution_count": 11,
      "metadata": {
        "colab": {
          "base_uri": "https://localhost:8080/"
        },
        "id": "4opVhbvxtL-i",
        "outputId": "63ba51f4-5354-485b-e59a-6a0a0d954218"
      },
      "outputs": [
        {
          "output_type": "execute_result",
          "data": {
            "text/plain": [
              "True"
            ]
          },
          "metadata": {},
          "execution_count": 11
        }
      ],
      "source": [
        "# 8. Check if the table is cached.\n",
        "spark.catalog.isCached('home_sales')"
      ]
    },
    {
      "cell_type": "code",
      "execution_count": 12,
      "metadata": {
        "colab": {
          "base_uri": "https://localhost:8080/"
        },
        "id": "5GnL46lwTSEk",
        "outputId": "c2b4a7a7-9a10-4189-9a04-07092911222d"
      },
      "outputs": [
        {
          "output_type": "stream",
          "name": "stdout",
          "text": [
            "+----------------+----------+\n",
            "|Home_View_Rating| Avg_Price|\n",
            "+----------------+----------+\n",
            "|              99|1061201.42|\n",
            "|              98|1053739.33|\n",
            "|              97|1129040.15|\n",
            "|              96|1017815.92|\n",
            "|              95| 1054325.6|\n",
            "|              94| 1033536.2|\n",
            "|              93|1026006.06|\n",
            "|              92| 970402.55|\n",
            "|              91|1137372.73|\n",
            "|              90|1062654.16|\n",
            "|              89|1107839.15|\n",
            "|              88|1031719.35|\n",
            "|              87| 1072285.2|\n",
            "|              86|1070444.25|\n",
            "|              85|1056336.74|\n",
            "|              84|1117233.13|\n",
            "|              83|1033965.93|\n",
            "|              82| 1063498.0|\n",
            "|              81|1053472.79|\n",
            "|              80| 991767.38|\n",
            "+----------------+----------+\n",
            "only showing top 20 rows\n",
            "\n",
            "--- 0.8387024402618408 seconds ---\n"
          ]
        }
      ],
      "source": [
        "# 9. Using the cached data, run the last query above, that calculates\n",
        "# the average price of a home per \"view\" rating, rounded to two decimal places,\n",
        "# having an average home price greater than or equal to $350,000.\n",
        "# Determine the runtime and compare it to the uncached runtime.\n",
        "\n",
        "# Get the current time\n",
        "start_time = time.time()\n",
        "\n",
        "# Repeating the same query as for the previous table\n",
        "spark.sql(\"\"\"SELECT LPAD(view, 2, '0') AS Home_View_Rating, ROUND(AVG(price), 2) AS Avg_Price FROM home_sales WHERE price >= 350000 GROUP BY 1 ORDER BY Home_View_Rating DESC\"\"\").show()\n",
        "\n",
        "# Print out the runtime\n",
        "print(\"--- %s seconds ---\" % (time.time() - start_time))\n"
      ]
    },
    {
      "cell_type": "code",
      "execution_count": 13,
      "metadata": {
        "id": "Qm12WN9isHBR"
      },
      "outputs": [],
      "source": [
        "# 10. Partition by the \"date_built\" field on the formatted parquet home sales data\n",
        "df.write.partitionBy(\"date_built\").mode(\"overwrite\").parquet(\"parket_delayed_partitioned\")"
      ]
    },
    {
      "cell_type": "code",
      "execution_count": 14,
      "metadata": {
        "id": "AZ7BgY61sRqY"
      },
      "outputs": [],
      "source": [
        "# 11. Read the formatted parquet data.\n",
        "p_df=spark.read.parquet('parket_delayed_partitioned')"
      ]
    },
    {
      "cell_type": "code",
      "execution_count": 15,
      "metadata": {
        "id": "J6MJkHfvVcvh"
      },
      "outputs": [],
      "source": [
        "# 12. Create a temporary table for the parquet data.\n",
        "p_df.createOrReplaceTempView('p_delays_p')"
      ]
    },
    {
      "cell_type": "code",
      "execution_count": 16,
      "metadata": {
        "colab": {
          "base_uri": "https://localhost:8080/"
        },
        "id": "G_Vhb52rU1Sn",
        "outputId": "8d11ddbb-adf3-406d-ae54-4811dfe6abbf"
      },
      "outputs": [
        {
          "output_type": "stream",
          "name": "stdout",
          "text": [
            "+----------------+----------+\n",
            "|Home_View_Rating| Avg_Price|\n",
            "+----------------+----------+\n",
            "|              99|1061201.42|\n",
            "|              98|1053739.33|\n",
            "|              97|1129040.15|\n",
            "|              96|1017815.92|\n",
            "|              95| 1054325.6|\n",
            "|              94| 1033536.2|\n",
            "|              93|1026006.06|\n",
            "|              92| 970402.55|\n",
            "|              91|1137372.73|\n",
            "|              90|1062654.16|\n",
            "|              89|1107839.15|\n",
            "|              88|1031719.35|\n",
            "|              87| 1072285.2|\n",
            "|              86|1070444.25|\n",
            "|              85|1056336.74|\n",
            "|              84|1117233.13|\n",
            "|              83|1033965.93|\n",
            "|              82| 1063498.0|\n",
            "|              81|1053472.79|\n",
            "|              80| 991767.38|\n",
            "+----------------+----------+\n",
            "only showing top 20 rows\n",
            "\n",
            "--- 1.143153190612793 seconds ---\n"
          ]
        }
      ],
      "source": [
        "# 13. Using the parquet DataFrame, run the last query above, that calculates\n",
        "# the average price of a home per \"view\" rating, rounded to two decimal places,\n",
        "# having an average home price greater than or equal to $350,000.\n",
        "# Determine the runtime and compare it to the cached runtime.\n",
        "\n",
        "# Get the current time\n",
        "start_time = time.time()\n",
        "\n",
        "# Query that calculates the avg price of a home per view rating using the parquet DataFrame\n",
        "spark.sql(\"\"\"SELECT LPAD(view, 2, '0') AS Home_View_Rating, ROUND(AVG(price), 2) AS Avg_Price FROM p_delays_p WHERE price >= 350000 GROUP BY 1 ORDER BY Home_View_Rating DESC\"\"\").show()\n",
        "\n",
        "# Print out the runtime\n",
        "print(\"--- %s seconds ---\" % (time.time() - start_time))"
      ]
    },
    {
      "cell_type": "code",
      "execution_count": 17,
      "metadata": {
        "colab": {
          "base_uri": "https://localhost:8080/"
        },
        "id": "hjjYzQGjtbq8",
        "outputId": "ab4decd9-cee2-42d7-a66f-759d261a38f2"
      },
      "outputs": [
        {
          "output_type": "execute_result",
          "data": {
            "text/plain": [
              "DataFrame[]"
            ]
          },
          "metadata": {},
          "execution_count": 17
        }
      ],
      "source": [
        "# 14. Uncache the home_sales temporary table.\n",
        "spark.sql(\"uncache table home_sales\")"
      ]
    },
    {
      "cell_type": "code",
      "execution_count": 18,
      "metadata": {
        "colab": {
          "base_uri": "https://localhost:8080/"
        },
        "id": "Sy9NBvO7tlmm",
        "outputId": "828bb45a-b609-41fe-a67e-c59cc79a7332"
      },
      "outputs": [
        {
          "output_type": "execute_result",
          "data": {
            "text/plain": [
              "False"
            ]
          },
          "metadata": {},
          "execution_count": 18
        }
      ],
      "source": [
        "# 15. Check if the home_sales is no longer cached\n",
        "spark.catalog.isCached(\"home_sales\")\n"
      ]
    },
    {
      "cell_type": "code",
      "execution_count": 19,
      "metadata": {
        "id": "qbnoXxFoDHb4"
      },
      "outputs": [],
      "source": [
        "# Write out a csv file from Spark\n",
        "df.write.csv('out_home_sales_revised.csv', mode='overwrite')"
      ]
    },
    {
      "cell_type": "code",
      "execution_count": 19,
      "metadata": {
        "id": "n3zHCT9UBI-2"
      },
      "outputs": [],
      "source": []
    }
  ],
  "metadata": {
    "colab": {
      "provenance": []
    },
    "kernelspec": {
      "display_name": "base",
      "language": "python",
      "name": "python3"
    },
    "language_info": {
      "codemirror_mode": {
        "name": "ipython",
        "version": 3
      },
      "file_extension": ".py",
      "mimetype": "text/x-python",
      "name": "python",
      "nbconvert_exporter": "python",
      "pygments_lexer": "ipython3",
      "version": "3.12.4"
    },
    "nteract": {
      "version": "0.28.0"
    }
  },
  "nbformat": 4,
  "nbformat_minor": 0
}